{
 "cells": [
  {
   "cell_type": "code",
   "execution_count": 1,
   "metadata": {},
   "outputs": [
    {
     "name": "stderr",
     "output_type": "stream",
     "text": [
      "Using TensorFlow backend.\n"
     ]
    }
   ],
   "source": [
    "import os\n",
    "import pandas as pd\n",
    "import numpy as np\n",
    "from sklearn.model_selection import train_test_split\n",
    "import nltk\n",
    "from nltk.corpus import RegexpTokenizer as regextoken\n",
    "from nltk.corpus import stopwords\n",
    "from nltk import FreqDist, bigrams, trigrams,ngrams\n",
    "from nltk import WordNetLemmatizer\n",
    "import matplotlib\n",
    "from matplotlib import pyplot as plt\n",
    "import seaborn as sns\n",
    "%matplotlib inline\n",
    "from keras.preprocessing.text import Tokenizer\n",
    "from sklearn.preprocessing import LabelEncoder\n",
    "from keras.utils import to_categorical\n",
    "from keras.preprocessing.sequence import pad_sequences\n",
    "# import gensim\n",
    "# from gensim.models.keyedvectors import KeyedVectors\n",
    "from keras.models import Sequential\n",
    "from keras.models import Model\n",
    "from keras.layers import Dense, Flatten, Embedding, Conv1D, MaxPooling1D, Dropout, LSTM, GRU\n",
    "from keras.regularizers import l1, l2\n",
    "from sklearn.metrics import classification_report\n",
    "import warnings\n",
    "warnings.filterwarnings(\"ignore\")\n",
    "import collections\n",
    "zomato = pd.read_csv(\"zomato.csv\", na_values = [\"-\", \"\"])\n",
    "# Making a copy of the data to work on\n",
    "data = zomato.copy()\n",
    "data.drop(['url','address','menu_item','phone','location'],axis=1,inplace=True)\n",
    "data.rename(columns={'listed_in(city)':'location'}, inplace=True)\n",
    "data=data[data['rate'].notnull()]"
   ]
  },
  {
   "cell_type": "code",
   "execution_count": 2,
   "metadata": {},
   "outputs": [],
   "source": [
    "data['dish_liked']= data[\"dish_liked\"].astype(str)"
   ]
  },
  {
   "cell_type": "code",
   "execution_count": 3,
   "metadata": {},
   "outputs": [],
   "source": [
    "sam=data[['dish_liked','location']].groupby(['location'],as_index=False).agg(lambda x:' '.join(list(x)))"
   ]
  },
  {
   "cell_type": "code",
   "execution_count": 4,
   "metadata": {},
   "outputs": [],
   "source": [
    "pair={}\n",
    "for i in range(0,30):\n",
    "    s=sam[sam.index==i]\n",
    "    s[\"dish_liked\"]= s[\"dish_liked\"].apply(lambda x: x.lower())\n",
    "    tokenizer = regextoken(\"[a-zA-Z]+\") \n",
    "    dish_tokens = s[\"dish_liked\"].apply(tokenizer.tokenize)\n",
    "    stop = stopwords.words(\"english\")\n",
    "    stop.extend([\"rated\", \"n\", \"nan\", \"x\"])\n",
    "    dish_tokens = dish_tokens.apply(lambda x: [token for token in x if token not in stop])\n",
    "    all_dishes = dish_tokens.astype(str).str.cat()\n",
    "    cleaned_dishes = tokenizer.tokenize(all_dishes)\n",
    "    j=s['location'].values[0]\n",
    "    pair[j] = cleaned_dishes"
   ]
  },
  {
   "cell_type": "code",
   "execution_count": 5,
   "metadata": {},
   "outputs": [],
   "source": [
    "dish2={}\n",
    "dish3={}"
   ]
  },
  {
   "cell_type": "code",
   "execution_count": 6,
   "metadata": {},
   "outputs": [],
   "source": [
    "for i in pair.keys():\n",
    "    trigram = lambda a: zip(a, a[1:],a[2:])\n",
    "    ap=list(trigram(pair[i]))\n",
    "    trigramFreq = collections.Counter(ap)\n",
    "    dish3[i]=trigramFreq.most_common(10)  "
   ]
  },
  {
   "cell_type": "code",
   "execution_count": 8,
   "metadata": {},
   "outputs": [],
   "source": [
    "for i in pair.keys():    \n",
    "    bigram = lambda a: zip(a, a[1:])\n",
    "    apw=list(bigram(pair[i]))\n",
    "    bigramFreq = collections.Counter(apw)\n",
    "    dish2[i]=bigramFreq.most_common(10)"
   ]
  },
  {
   "cell_type": "code",
   "execution_count": 7,
   "metadata": {},
   "outputs": [
    {
     "name": "stdout",
     "output_type": "stream",
     "text": [
      "[(('peri', 'peri', 'chicken'), 47), (('panneer', 'butter', 'masala'), 31), (('murgh', 'ghee', 'roast'), 21), (('biryani', 'mutton', 'biryani'), 16), (('biryani', 'tandoori', 'chicken'), 15), (('chicken', 'biryani', 'chicken'), 13), (('honey', 'chilli', 'potatoes'), 13), (('chicken', 'boneless', 'biryani'), 13), (('long', 'island', 'iced'), 12), (('island', 'iced', 'tea'), 12)]\n"
     ]
    }
   ],
   "source": [
    "print(dish3['BTM'])"
   ]
  },
  {
   "cell_type": "code",
   "execution_count": 8,
   "metadata": {},
   "outputs": [
    {
     "name": "stdout",
     "output_type": "stream",
     "text": [
      "[(('panneer', 'butter', 'masala'), 20), (('hot', 'chocolate', 'fudge'), 9), (('masala', 'dosa', 'idli'), 9), (('masala', 'papad', 'paneer'), 7), (('coffee', 'masala', 'dosa'), 6), (('biryani', 'chicken', 'biryani'), 5), (('churros', 'cannelloni', 'minestrone'), 5), (('cannelloni', 'minestrone', 'soup'), 5), (('minestrone', 'soup', 'hot'), 5), (('soup', 'hot', 'chocolate'), 5)]\n"
     ]
    }
   ],
   "source": [
    "print(dish3['Banashankari'])"
   ]
  },
  {
   "cell_type": "code",
   "execution_count": 9,
   "metadata": {},
   "outputs": [
    {
     "name": "stdout",
     "output_type": "stream",
     "text": [
      "[(('peri', 'peri', 'chicken'), 38), (('long', 'island', 'iced'), 16), (('island', 'iced', 'tea'), 16), (('murgh', 'ghee', 'roast'), 15), (('vanilla', 'ice', 'cream'), 11), (('biryani', 'mutton', 'biryani'), 11), (('panneer', 'butter', 'masala'), 11), (('tom', 'yum', 'soup'), 10), (('hot', 'chocolate', 'fudge'), 10), (('cocktails', 'beef', 'steak'), 10)]\n"
     ]
    }
   ],
   "source": [
    "print(dish3['Church Street'])"
   ]
  },
  {
   "cell_type": "code",
   "execution_count": 10,
   "metadata": {},
   "outputs": [
    {
     "name": "stdout",
     "output_type": "stream",
     "text": [
      "[(('peri', 'peri', 'chicken'), 29), (('murgh', 'ghee', 'roast'), 14), (('biryani', 'mutton', 'biryani'), 12), (('vanilla', 'ice', 'cream'), 10), (('hot', 'chocolate', 'fudge'), 9), (('long', 'island', 'iced'), 9), (('island', 'iced', 'tea'), 9), (('panneer', 'butter', 'masala'), 9), (('biryani', 'dal', 'makhani'), 8), (('bbq', 'chicken', 'pizza'), 8)]\n"
     ]
    }
   ],
   "source": [
    "print(dish3['Residency Road'])"
   ]
  },
  {
   "cell_type": "code",
   "execution_count": 11,
   "metadata": {},
   "outputs": [
    {
     "name": "stdout",
     "output_type": "stream",
     "text": [
      "[(('peri', 'peri', 'chicken'), 39), (('murgh', 'ghee', 'roast'), 20), (('biryani', 'mutton', 'biryani'), 13), (('long', 'island', 'iced'), 12), (('island', 'iced', 'tea'), 12), (('cocktails', 'beef', 'steak'), 12), (('vanilla', 'ice', 'cream'), 11), (('panneer', 'butter', 'masala'), 11), (('biryani', 'chicken', 'biryani'), 10), (('biryani', 'dal', 'makhani'), 9)]\n"
     ]
    }
   ],
   "source": [
    "print(dish3['MG Road'])"
   ]
  },
  {
   "cell_type": "code",
   "execution_count": 39,
   "metadata": {},
   "outputs": [
    {
     "name": "stdout",
     "output_type": "stream",
     "text": [
      "[(('peri', 'peri', 'chicken'), 28), (('biryani', 'mutton', 'biryani'), 18), (('murgh', 'ghee', 'roast'), 18), (('panneer', 'butter', 'masala'), 18), (('sweet', 'corn', 'soup'), 14), (('long', 'island', 'iced'), 12), (('island', 'iced', 'tea'), 12), (('hot', 'chocolate', 'chocolate'), 12), (('peri', 'peri', 'fries'), 12), (('chicken', 'boneless', 'biryani'), 12)]\n"
     ]
    }
   ],
   "source": [
    "print(dish3['Old Airport Road'])"
   ]
  },
  {
   "cell_type": "code",
   "execution_count": 9,
   "metadata": {},
   "outputs": [
    {
     "data": {
      "text/plain": [
       "dict_keys(['BTM', 'Banashankari', 'Bannerghatta Road', 'Basavanagudi', 'Bellandur', 'Brigade Road', 'Brookefield', 'Church Street', 'Electronic City', 'Frazer Town', 'HSR', 'Indiranagar', 'JP Nagar', 'Jayanagar', 'Kalyan Nagar', 'Kammanahalli', 'Koramangala 4th Block', 'Koramangala 5th Block', 'Koramangala 6th Block', 'Koramangala 7th Block', 'Lavelle Road', 'MG Road', 'Malleshwaram', 'Marathahalli', 'New BEL Road', 'Old Airport Road', 'Rajajinagar', 'Residency Road', 'Sarjapur Road', 'Whitefield'])"
      ]
     },
     "execution_count": 9,
     "metadata": {},
     "output_type": "execute_result"
    }
   ],
   "source": [
    "pair.keys()"
   ]
  },
  {
   "cell_type": "code",
   "execution_count": null,
   "metadata": {},
   "outputs": [],
   "source": []
  }
 ],
 "metadata": {
  "kernelspec": {
   "display_name": "Python 3",
   "language": "python",
   "name": "python3"
  },
  "language_info": {
   "codemirror_mode": {
    "name": "ipython",
    "version": 3
   },
   "file_extension": ".py",
   "mimetype": "text/x-python",
   "name": "python",
   "nbconvert_exporter": "python",
   "pygments_lexer": "ipython3",
   "version": "3.7.3"
  }
 },
 "nbformat": 4,
 "nbformat_minor": 2
}
